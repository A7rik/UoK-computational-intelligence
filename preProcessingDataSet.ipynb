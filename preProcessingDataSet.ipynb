{
 "cells": [
  {
   "cell_type": "code",
   "execution_count": 27,
   "id": "7dfcc61a",
   "metadata": {
    "execution": {
     "iopub.execute_input": "2023-12-13T04:27:00.394217Z",
     "iopub.status.busy": "2023-12-13T04:27:00.393423Z",
     "iopub.status.idle": "2023-12-13T04:27:14.703000Z",
     "shell.execute_reply": "2023-12-13T04:27:14.702087Z"
    },
    "id": "NEq5BoYgfCdV",
    "papermill": {
     "duration": 14.32096,
     "end_time": "2023-12-13T04:27:14.705631",
     "exception": false,
     "start_time": "2023-12-13T04:27:00.384671",
     "status": "completed"
    },
    "tags": []
   },
   "outputs": [],
   "source": [
    "import pandas as pd\n",
    "import numpy as np\n",
    "from sklearn.preprocessing import LabelEncoder,OneHotEncoder\n",
    "from sklearn.model_selection import train_test_split"
   ]
  },
  {
   "cell_type": "code",
   "execution_count": 28,
   "id": "df030d0a",
   "metadata": {
    "execution": {
     "iopub.execute_input": "2023-12-13T04:27:14.719592Z",
     "iopub.status.busy": "2023-12-13T04:27:14.718868Z",
     "iopub.status.idle": "2023-12-13T04:27:15.379998Z",
     "shell.execute_reply": "2023-12-13T04:27:15.378899Z"
    },
    "id": "2_65i0rLfZEQ",
    "outputId": "986e4e8c-c1bb-4ad8-bd0e-8b807f44ddb5",
    "papermill": {
     "duration": 0.670746,
     "end_time": "2023-12-13T04:27:15.382554",
     "exception": false,
     "start_time": "2023-12-13T04:27:14.711808",
     "status": "completed"
    },
    "tags": []
   },
   "outputs": [
    {
     "data": {
      "text/html": [
       "<div>\n",
       "<style scoped>\n",
       "    .dataframe tbody tr th:only-of-type {\n",
       "        vertical-align: middle;\n",
       "    }\n",
       "\n",
       "    .dataframe tbody tr th {\n",
       "        vertical-align: top;\n",
       "    }\n",
       "\n",
       "    .dataframe thead th {\n",
       "        text-align: right;\n",
       "    }\n",
       "</style>\n",
       "<table border=\"1\" class=\"dataframe\">\n",
       "  <thead>\n",
       "    <tr style=\"text-align: right;\">\n",
       "      <th></th>\n",
       "      <th>ID</th>\n",
       "      <th>Age</th>\n",
       "      <th>Gender</th>\n",
       "      <th>Height</th>\n",
       "      <th>Weight</th>\n",
       "      <th>Blood Type</th>\n",
       "      <th>BMI</th>\n",
       "      <th>Temperature</th>\n",
       "      <th>Heart Rate</th>\n",
       "      <th>Blood Pressure</th>\n",
       "      <th>Cholesterol</th>\n",
       "      <th>Diabetes</th>\n",
       "      <th>Smoking</th>\n",
       "    </tr>\n",
       "  </thead>\n",
       "  <tbody>\n",
       "    <tr>\n",
       "      <th>0</th>\n",
       "      <td>1.0</td>\n",
       "      <td>18.0</td>\n",
       "      <td>Female</td>\n",
       "      <td>161.777924</td>\n",
       "      <td>72.354947</td>\n",
       "      <td>O</td>\n",
       "      <td>27.645835</td>\n",
       "      <td>NaN</td>\n",
       "      <td>95.0</td>\n",
       "      <td>109.0</td>\n",
       "      <td>203.0</td>\n",
       "      <td>No</td>\n",
       "      <td>NaN</td>\n",
       "    </tr>\n",
       "    <tr>\n",
       "      <th>1</th>\n",
       "      <td>2.0</td>\n",
       "      <td>NaN</td>\n",
       "      <td>Male</td>\n",
       "      <td>152.069157</td>\n",
       "      <td>47.630941</td>\n",
       "      <td>B</td>\n",
       "      <td>NaN</td>\n",
       "      <td>98.714977</td>\n",
       "      <td>93.0</td>\n",
       "      <td>104.0</td>\n",
       "      <td>163.0</td>\n",
       "      <td>No</td>\n",
       "      <td>No</td>\n",
       "    </tr>\n",
       "    <tr>\n",
       "      <th>2</th>\n",
       "      <td>3.0</td>\n",
       "      <td>32.0</td>\n",
       "      <td>Female</td>\n",
       "      <td>182.537664</td>\n",
       "      <td>55.741083</td>\n",
       "      <td>A</td>\n",
       "      <td>16.729017</td>\n",
       "      <td>98.260293</td>\n",
       "      <td>76.0</td>\n",
       "      <td>130.0</td>\n",
       "      <td>216.0</td>\n",
       "      <td>Yes</td>\n",
       "      <td>No</td>\n",
       "    </tr>\n",
       "    <tr>\n",
       "      <th>3</th>\n",
       "      <td>NaN</td>\n",
       "      <td>30.0</td>\n",
       "      <td>Male</td>\n",
       "      <td>182.112867</td>\n",
       "      <td>63.332207</td>\n",
       "      <td>B</td>\n",
       "      <td>19.096042</td>\n",
       "      <td>98.839605</td>\n",
       "      <td>99.0</td>\n",
       "      <td>112.0</td>\n",
       "      <td>141.0</td>\n",
       "      <td>No</td>\n",
       "      <td>Yes</td>\n",
       "    </tr>\n",
       "    <tr>\n",
       "      <th>4</th>\n",
       "      <td>5.0</td>\n",
       "      <td>23.0</td>\n",
       "      <td>Female</td>\n",
       "      <td>NaN</td>\n",
       "      <td>46.234173</td>\n",
       "      <td>O</td>\n",
       "      <td>NaN</td>\n",
       "      <td>98.480008</td>\n",
       "      <td>95.0</td>\n",
       "      <td>NaN</td>\n",
       "      <td>231.0</td>\n",
       "      <td>No</td>\n",
       "      <td>No</td>\n",
       "    </tr>\n",
       "  </tbody>\n",
       "</table>\n",
       "</div>"
      ],
      "text/plain": [
       "    ID   Age  Gender      Height     Weight Blood Type        BMI  \\\n",
       "0  1.0  18.0  Female  161.777924  72.354947          O  27.645835   \n",
       "1  2.0   NaN    Male  152.069157  47.630941          B        NaN   \n",
       "2  3.0  32.0  Female  182.537664  55.741083          A  16.729017   \n",
       "3  NaN  30.0    Male  182.112867  63.332207          B  19.096042   \n",
       "4  5.0  23.0  Female         NaN  46.234173          O        NaN   \n",
       "\n",
       "   Temperature  Heart Rate  Blood Pressure  Cholesterol Diabetes Smoking  \n",
       "0          NaN        95.0           109.0        203.0       No     NaN  \n",
       "1    98.714977        93.0           104.0        163.0       No      No  \n",
       "2    98.260293        76.0           130.0        216.0      Yes      No  \n",
       "3    98.839605        99.0           112.0        141.0       No     Yes  \n",
       "4    98.480008        95.0             NaN        231.0       No      No  "
      ]
     },
     "execution_count": 28,
     "metadata": {},
     "output_type": "execute_result"
    }
   ],
   "source": [
    "dataset = pd.read_csv('medical_dataset.csv')\n",
    "dataset.head()"
   ]
  },
  {
   "cell_type": "code",
   "execution_count": 29,
   "id": "7f861f71",
   "metadata": {
    "execution": {
     "iopub.execute_input": "2023-12-13T04:27:15.396577Z",
     "iopub.status.busy": "2023-12-13T04:27:15.396180Z",
     "iopub.status.idle": "2023-12-13T04:27:15.444296Z",
     "shell.execute_reply": "2023-12-13T04:27:15.443267Z"
    },
    "id": "HvPQUOykg4YE",
    "outputId": "1e960c11-5865-48eb-c6b8-5487b0c24dfb",
    "papermill": {
     "duration": 0.058006,
     "end_time": "2023-12-13T04:27:15.446720",
     "exception": false,
     "start_time": "2023-12-13T04:27:15.388714",
     "status": "completed"
    },
    "tags": []
   },
   "outputs": [
    {
     "data": {
      "text/plain": [
       "ID                20000\n",
       "Age               20000\n",
       "Gender            20000\n",
       "Height            20000\n",
       "Weight            20000\n",
       "Blood Type        20000\n",
       "BMI               20000\n",
       "Temperature       20000\n",
       "Heart Rate        20000\n",
       "Blood Pressure    20000\n",
       "Cholesterol       20000\n",
       "Diabetes          20000\n",
       "Smoking           20000\n",
       "dtype: int64"
      ]
     },
     "execution_count": 29,
     "metadata": {},
     "output_type": "execute_result"
    }
   ],
   "source": [
    "missing_values = dataset.isnull().sum()\n",
    "missing_values"
   ]
  },
  {
   "cell_type": "code",
   "execution_count": 30,
   "id": "1653252c",
   "metadata": {
    "execution": {
     "iopub.execute_input": "2023-12-13T04:27:15.460996Z",
     "iopub.status.busy": "2023-12-13T04:27:15.460615Z",
     "iopub.status.idle": "2023-12-13T04:27:15.466635Z",
     "shell.execute_reply": "2023-12-13T04:27:15.465696Z"
    },
    "id": "BJ3Wk-x3jv8v",
    "outputId": "a6d28141-6dc5-400d-d528-6d5315e9fd4b",
    "papermill": {
     "duration": 0.015481,
     "end_time": "2023-12-13T04:27:15.468680",
     "exception": false,
     "start_time": "2023-12-13T04:27:15.453199",
     "status": "completed"
    },
    "tags": []
   },
   "outputs": [
    {
     "data": {
      "text/plain": [
       "(200000, 13)"
      ]
     },
     "execution_count": 30,
     "metadata": {},
     "output_type": "execute_result"
    }
   ],
   "source": [
    "dataset.shape"
   ]
  },
  {
   "cell_type": "code",
   "execution_count": 31,
   "id": "e242dee4",
   "metadata": {
    "execution": {
     "iopub.execute_input": "2023-12-13T04:27:15.483413Z",
     "iopub.status.busy": "2023-12-13T04:27:15.483005Z",
     "iopub.status.idle": "2023-12-13T04:27:15.489542Z",
     "shell.execute_reply": "2023-12-13T04:27:15.488581Z"
    },
    "id": "YdYcwV5ohl7O",
    "outputId": "11475b41-1396-43bb-c294-1ef14b12556a",
    "papermill": {
     "duration": 0.016406,
     "end_time": "2023-12-13T04:27:15.491559",
     "exception": false,
     "start_time": "2023-12-13T04:27:15.475153",
     "status": "completed"
    },
    "tags": []
   },
   "outputs": [
    {
     "data": {
      "text/plain": [
       "2600000"
      ]
     },
     "execution_count": 31,
     "metadata": {},
     "output_type": "execute_result"
    }
   ],
   "source": [
    "total_cells = np.product(dataset.shape)\n",
    "total_cells"
   ]
  },
  {
   "cell_type": "code",
   "execution_count": 32,
   "id": "71446b55",
   "metadata": {
    "execution": {
     "iopub.execute_input": "2023-12-13T04:27:15.506182Z",
     "iopub.status.busy": "2023-12-13T04:27:15.505784Z",
     "iopub.status.idle": "2023-12-13T04:27:15.512680Z",
     "shell.execute_reply": "2023-12-13T04:27:15.511693Z"
    },
    "id": "7s9D97KUj_IY",
    "outputId": "ea2fb31f-bb7d-4e89-f592-9994b122828d",
    "papermill": {
     "duration": 0.016618,
     "end_time": "2023-12-13T04:27:15.514718",
     "exception": false,
     "start_time": "2023-12-13T04:27:15.498100",
     "status": "completed"
    },
    "tags": []
   },
   "outputs": [
    {
     "data": {
      "text/plain": [
       "260000"
      ]
     },
     "execution_count": 32,
     "metadata": {},
     "output_type": "execute_result"
    }
   ],
   "source": [
    "total_missing_values = missing_values.sum()\n",
    "total_missing_values"
   ]
  },
  {
   "cell_type": "code",
   "execution_count": 33,
   "id": "95754299",
   "metadata": {},
   "outputs": [
    {
     "name": "stdout",
     "output_type": "stream",
     "text": [
      "<class 'pandas.core.frame.DataFrame'>\n",
      "RangeIndex: 200000 entries, 0 to 199999\n",
      "Data columns (total 13 columns):\n",
      " #   Column          Non-Null Count   Dtype  \n",
      "---  ------          --------------   -----  \n",
      " 0   ID              180000 non-null  float64\n",
      " 1   Age             180000 non-null  float64\n",
      " 2   Gender          180000 non-null  object \n",
      " 3   Height          180000 non-null  float64\n",
      " 4   Weight          180000 non-null  float64\n",
      " 5   Blood Type      180000 non-null  object \n",
      " 6   BMI             180000 non-null  float64\n",
      " 7   Temperature     180000 non-null  float64\n",
      " 8   Heart Rate      180000 non-null  float64\n",
      " 9   Blood Pressure  180000 non-null  float64\n",
      " 10  Cholesterol     180000 non-null  float64\n",
      " 11  Diabetes        180000 non-null  object \n",
      " 12  Smoking         180000 non-null  object \n",
      "dtypes: float64(9), object(4)\n",
      "memory usage: 19.8+ MB\n"
     ]
    }
   ],
   "source": [
    "dataset.info()"
   ]
  },
  {
   "cell_type": "code",
   "execution_count": 34,
   "id": "5b6c9d02",
   "metadata": {},
   "outputs": [
    {
     "data": {
      "text/html": [
       "<div>\n",
       "<style scoped>\n",
       "    .dataframe tbody tr th:only-of-type {\n",
       "        vertical-align: middle;\n",
       "    }\n",
       "\n",
       "    .dataframe tbody tr th {\n",
       "        vertical-align: top;\n",
       "    }\n",
       "\n",
       "    .dataframe thead th {\n",
       "        text-align: right;\n",
       "    }\n",
       "</style>\n",
       "<table border=\"1\" class=\"dataframe\">\n",
       "  <thead>\n",
       "    <tr style=\"text-align: right;\">\n",
       "      <th></th>\n",
       "      <th>ID</th>\n",
       "      <th>Age</th>\n",
       "      <th>Height</th>\n",
       "      <th>Weight</th>\n",
       "      <th>BMI</th>\n",
       "      <th>Temperature</th>\n",
       "      <th>Heart Rate</th>\n",
       "      <th>Blood Pressure</th>\n",
       "      <th>Cholesterol</th>\n",
       "    </tr>\n",
       "  </thead>\n",
       "  <tbody>\n",
       "    <tr>\n",
       "      <th>count</th>\n",
       "      <td>180000.000000</td>\n",
       "      <td>180000.000000</td>\n",
       "      <td>180000.000000</td>\n",
       "      <td>180000.000000</td>\n",
       "      <td>180000.000000</td>\n",
       "      <td>180000.000000</td>\n",
       "      <td>180000.000000</td>\n",
       "      <td>180000.000000</td>\n",
       "      <td>180000.000000</td>\n",
       "    </tr>\n",
       "    <tr>\n",
       "      <th>mean</th>\n",
       "      <td>49974.042078</td>\n",
       "      <td>26.021561</td>\n",
       "      <td>174.947103</td>\n",
       "      <td>69.971585</td>\n",
       "      <td>23.338869</td>\n",
       "      <td>98.600948</td>\n",
       "      <td>79.503767</td>\n",
       "      <td>114.558033</td>\n",
       "      <td>184.486361</td>\n",
       "    </tr>\n",
       "    <tr>\n",
       "      <th>std</th>\n",
       "      <td>28879.641657</td>\n",
       "      <td>4.890528</td>\n",
       "      <td>14.447560</td>\n",
       "      <td>17.322574</td>\n",
       "      <td>7.033554</td>\n",
       "      <td>0.500530</td>\n",
       "      <td>11.540755</td>\n",
       "      <td>14.403353</td>\n",
       "      <td>37.559678</td>\n",
       "    </tr>\n",
       "    <tr>\n",
       "      <th>min</th>\n",
       "      <td>1.000000</td>\n",
       "      <td>18.000000</td>\n",
       "      <td>150.000041</td>\n",
       "      <td>40.000578</td>\n",
       "      <td>10.074837</td>\n",
       "      <td>96.397835</td>\n",
       "      <td>60.000000</td>\n",
       "      <td>90.000000</td>\n",
       "      <td>120.000000</td>\n",
       "    </tr>\n",
       "    <tr>\n",
       "      <th>25%</th>\n",
       "      <td>24971.750000</td>\n",
       "      <td>22.000000</td>\n",
       "      <td>162.476110</td>\n",
       "      <td>54.969838</td>\n",
       "      <td>17.858396</td>\n",
       "      <td>98.264750</td>\n",
       "      <td>70.000000</td>\n",
       "      <td>102.000000</td>\n",
       "      <td>152.000000</td>\n",
       "    </tr>\n",
       "    <tr>\n",
       "      <th>50%</th>\n",
       "      <td>49943.500000</td>\n",
       "      <td>26.000000</td>\n",
       "      <td>174.899914</td>\n",
       "      <td>69.979384</td>\n",
       "      <td>22.671401</td>\n",
       "      <td>98.599654</td>\n",
       "      <td>80.000000</td>\n",
       "      <td>115.000000</td>\n",
       "      <td>184.000000</td>\n",
       "    </tr>\n",
       "    <tr>\n",
       "      <th>75%</th>\n",
       "      <td>74986.000000</td>\n",
       "      <td>30.000000</td>\n",
       "      <td>187.464417</td>\n",
       "      <td>84.980097</td>\n",
       "      <td>27.997487</td>\n",
       "      <td>98.940543</td>\n",
       "      <td>90.000000</td>\n",
       "      <td>127.000000</td>\n",
       "      <td>217.000000</td>\n",
       "    </tr>\n",
       "    <tr>\n",
       "      <th>max</th>\n",
       "      <td>100000.000000</td>\n",
       "      <td>34.000000</td>\n",
       "      <td>199.998639</td>\n",
       "      <td>99.999907</td>\n",
       "      <td>44.355113</td>\n",
       "      <td>100.824857</td>\n",
       "      <td>99.000000</td>\n",
       "      <td>139.000000</td>\n",
       "      <td>249.000000</td>\n",
       "    </tr>\n",
       "  </tbody>\n",
       "</table>\n",
       "</div>"
      ],
      "text/plain": [
       "                  ID            Age         Height         Weight  \\\n",
       "count  180000.000000  180000.000000  180000.000000  180000.000000   \n",
       "mean    49974.042078      26.021561     174.947103      69.971585   \n",
       "std     28879.641657       4.890528      14.447560      17.322574   \n",
       "min         1.000000      18.000000     150.000041      40.000578   \n",
       "25%     24971.750000      22.000000     162.476110      54.969838   \n",
       "50%     49943.500000      26.000000     174.899914      69.979384   \n",
       "75%     74986.000000      30.000000     187.464417      84.980097   \n",
       "max    100000.000000      34.000000     199.998639      99.999907   \n",
       "\n",
       "                 BMI    Temperature     Heart Rate  Blood Pressure  \\\n",
       "count  180000.000000  180000.000000  180000.000000   180000.000000   \n",
       "mean       23.338869      98.600948      79.503767      114.558033   \n",
       "std         7.033554       0.500530      11.540755       14.403353   \n",
       "min        10.074837      96.397835      60.000000       90.000000   \n",
       "25%        17.858396      98.264750      70.000000      102.000000   \n",
       "50%        22.671401      98.599654      80.000000      115.000000   \n",
       "75%        27.997487      98.940543      90.000000      127.000000   \n",
       "max        44.355113     100.824857      99.000000      139.000000   \n",
       "\n",
       "         Cholesterol  \n",
       "count  180000.000000  \n",
       "mean      184.486361  \n",
       "std        37.559678  \n",
       "min       120.000000  \n",
       "25%       152.000000  \n",
       "50%       184.000000  \n",
       "75%       217.000000  \n",
       "max       249.000000  "
      ]
     },
     "execution_count": 34,
     "metadata": {},
     "output_type": "execute_result"
    }
   ],
   "source": [
    "dataset.describe()"
   ]
  },
  {
   "cell_type": "code",
   "execution_count": 35,
   "id": "9ba1cc9c",
   "metadata": {
    "execution": {
     "iopub.execute_input": "2023-12-13T04:27:15.654772Z",
     "iopub.status.busy": "2023-12-13T04:27:15.654137Z",
     "iopub.status.idle": "2023-12-13T04:27:15.780233Z",
     "shell.execute_reply": "2023-12-13T04:27:15.779425Z"
    },
    "id": "NZFdc01x5INJ",
    "papermill": {
     "duration": 0.137216,
     "end_time": "2023-12-13T04:27:15.782538",
     "exception": false,
     "start_time": "2023-12-13T04:27:15.645322",
     "status": "completed"
    },
    "tags": []
   },
   "outputs": [],
   "source": [
    "for col in dataset.select_dtypes(include='object').columns:\n",
    "  mode_value = dataset[col].mode()[0]\n",
    "  dataset[col] = dataset[col].fillna(mode_value)"
   ]
  },
  {
   "cell_type": "code",
   "execution_count": 36,
   "id": "7ee0401a",
   "metadata": {
    "execution": {
     "iopub.execute_input": "2023-12-13T04:27:15.799635Z",
     "iopub.status.busy": "2023-12-13T04:27:15.798992Z",
     "iopub.status.idle": "2023-12-13T04:27:15.831456Z",
     "shell.execute_reply": "2023-12-13T04:27:15.830432Z"
    },
    "id": "k2-MCPgU6OkU",
    "papermill": {
     "duration": 0.043937,
     "end_time": "2023-12-13T04:27:15.833874",
     "exception": false,
     "start_time": "2023-12-13T04:27:15.789937",
     "status": "completed"
    },
    "tags": []
   },
   "outputs": [],
   "source": [
    "for col in dataset.select_dtypes(include='number').columns:\n",
    "    mean_value = dataset[col].mean()\n",
    "    dataset[col] = dataset[col].fillna(mean_value)"
   ]
  },
  {
   "cell_type": "code",
   "execution_count": 37,
   "id": "f16f1447",
   "metadata": {
    "execution": {
     "iopub.execute_input": "2023-12-13T04:27:15.857453Z",
     "iopub.status.busy": "2023-12-13T04:27:15.857064Z",
     "iopub.status.idle": "2023-12-13T04:27:15.874980Z",
     "shell.execute_reply": "2023-12-13T04:27:15.873878Z"
    },
    "id": "E_qn4zbL6kb6",
    "outputId": "c2044f08-55f8-4d3a-ee25-3203f167d276",
    "papermill": {
     "duration": 0.029075,
     "end_time": "2023-12-13T04:27:15.877058",
     "exception": false,
     "start_time": "2023-12-13T04:27:15.847983",
     "status": "completed"
    },
    "tags": []
   },
   "outputs": [
    {
     "data": {
      "text/html": [
       "<div>\n",
       "<style scoped>\n",
       "    .dataframe tbody tr th:only-of-type {\n",
       "        vertical-align: middle;\n",
       "    }\n",
       "\n",
       "    .dataframe tbody tr th {\n",
       "        vertical-align: top;\n",
       "    }\n",
       "\n",
       "    .dataframe thead th {\n",
       "        text-align: right;\n",
       "    }\n",
       "</style>\n",
       "<table border=\"1\" class=\"dataframe\">\n",
       "  <thead>\n",
       "    <tr style=\"text-align: right;\">\n",
       "      <th></th>\n",
       "      <th>ID</th>\n",
       "      <th>Age</th>\n",
       "      <th>Gender</th>\n",
       "      <th>Height</th>\n",
       "      <th>Weight</th>\n",
       "      <th>Blood Type</th>\n",
       "      <th>BMI</th>\n",
       "      <th>Temperature</th>\n",
       "      <th>Heart Rate</th>\n",
       "      <th>Blood Pressure</th>\n",
       "      <th>Cholesterol</th>\n",
       "      <th>Diabetes</th>\n",
       "      <th>Smoking</th>\n",
       "    </tr>\n",
       "  </thead>\n",
       "  <tbody>\n",
       "    <tr>\n",
       "      <th>0</th>\n",
       "      <td>1.000000</td>\n",
       "      <td>18.000000</td>\n",
       "      <td>Female</td>\n",
       "      <td>161.777924</td>\n",
       "      <td>72.354947</td>\n",
       "      <td>O</td>\n",
       "      <td>27.645835</td>\n",
       "      <td>98.600948</td>\n",
       "      <td>95.0</td>\n",
       "      <td>109.000000</td>\n",
       "      <td>203.0</td>\n",
       "      <td>No</td>\n",
       "      <td>No</td>\n",
       "    </tr>\n",
       "    <tr>\n",
       "      <th>1</th>\n",
       "      <td>2.000000</td>\n",
       "      <td>26.021561</td>\n",
       "      <td>Male</td>\n",
       "      <td>152.069157</td>\n",
       "      <td>47.630941</td>\n",
       "      <td>B</td>\n",
       "      <td>23.338869</td>\n",
       "      <td>98.714977</td>\n",
       "      <td>93.0</td>\n",
       "      <td>104.000000</td>\n",
       "      <td>163.0</td>\n",
       "      <td>No</td>\n",
       "      <td>No</td>\n",
       "    </tr>\n",
       "    <tr>\n",
       "      <th>2</th>\n",
       "      <td>3.000000</td>\n",
       "      <td>32.000000</td>\n",
       "      <td>Female</td>\n",
       "      <td>182.537664</td>\n",
       "      <td>55.741083</td>\n",
       "      <td>A</td>\n",
       "      <td>16.729017</td>\n",
       "      <td>98.260293</td>\n",
       "      <td>76.0</td>\n",
       "      <td>130.000000</td>\n",
       "      <td>216.0</td>\n",
       "      <td>Yes</td>\n",
       "      <td>No</td>\n",
       "    </tr>\n",
       "    <tr>\n",
       "      <th>3</th>\n",
       "      <td>49974.042078</td>\n",
       "      <td>30.000000</td>\n",
       "      <td>Male</td>\n",
       "      <td>182.112867</td>\n",
       "      <td>63.332207</td>\n",
       "      <td>B</td>\n",
       "      <td>19.096042</td>\n",
       "      <td>98.839605</td>\n",
       "      <td>99.0</td>\n",
       "      <td>112.000000</td>\n",
       "      <td>141.0</td>\n",
       "      <td>No</td>\n",
       "      <td>Yes</td>\n",
       "    </tr>\n",
       "    <tr>\n",
       "      <th>4</th>\n",
       "      <td>5.000000</td>\n",
       "      <td>23.000000</td>\n",
       "      <td>Female</td>\n",
       "      <td>174.947103</td>\n",
       "      <td>46.234173</td>\n",
       "      <td>O</td>\n",
       "      <td>23.338869</td>\n",
       "      <td>98.480008</td>\n",
       "      <td>95.0</td>\n",
       "      <td>114.558033</td>\n",
       "      <td>231.0</td>\n",
       "      <td>No</td>\n",
       "      <td>No</td>\n",
       "    </tr>\n",
       "  </tbody>\n",
       "</table>\n",
       "</div>"
      ],
      "text/plain": [
       "             ID        Age  Gender      Height     Weight Blood Type  \\\n",
       "0      1.000000  18.000000  Female  161.777924  72.354947          O   \n",
       "1      2.000000  26.021561    Male  152.069157  47.630941          B   \n",
       "2      3.000000  32.000000  Female  182.537664  55.741083          A   \n",
       "3  49974.042078  30.000000    Male  182.112867  63.332207          B   \n",
       "4      5.000000  23.000000  Female  174.947103  46.234173          O   \n",
       "\n",
       "         BMI  Temperature  Heart Rate  Blood Pressure  Cholesterol Diabetes  \\\n",
       "0  27.645835    98.600948        95.0      109.000000        203.0       No   \n",
       "1  23.338869    98.714977        93.0      104.000000        163.0       No   \n",
       "2  16.729017    98.260293        76.0      130.000000        216.0      Yes   \n",
       "3  19.096042    98.839605        99.0      112.000000        141.0       No   \n",
       "4  23.338869    98.480008        95.0      114.558033        231.0       No   \n",
       "\n",
       "  Smoking  \n",
       "0      No  \n",
       "1      No  \n",
       "2      No  \n",
       "3     Yes  \n",
       "4      No  "
      ]
     },
     "execution_count": 37,
     "metadata": {},
     "output_type": "execute_result"
    }
   ],
   "source": [
    "dataset.head()"
   ]
  },
  {
   "cell_type": "code",
   "execution_count": 38,
   "id": "97c49c08",
   "metadata": {
    "execution": {
     "iopub.execute_input": "2023-12-13T04:27:15.895188Z",
     "iopub.status.busy": "2023-12-13T04:27:15.894161Z",
     "iopub.status.idle": "2023-12-13T04:27:15.921330Z",
     "shell.execute_reply": "2023-12-13T04:27:15.920296Z"
    },
    "id": "Dy5dYBH12-ZI",
    "outputId": "ad857b8f-ec7d-4980-ad91-23c624d25bc5",
    "papermill": {
     "duration": 0.039303,
     "end_time": "2023-12-13T04:27:15.924254",
     "exception": false,
     "start_time": "2023-12-13T04:27:15.884951",
     "status": "completed"
    },
    "tags": []
   },
   "outputs": [
    {
     "data": {
      "text/plain": [
       "Index(['Gender', 'Blood Type', 'Diabetes', 'Smoking'], dtype='object')"
      ]
     },
     "execution_count": 38,
     "metadata": {},
     "output_type": "execute_result"
    }
   ],
   "source": [
    "categorical_features =  dataset.select_dtypes(include='object').columns\n",
    "categorical_features"
   ]
  },
  {
   "cell_type": "code",
   "execution_count": 39,
   "id": "b3405254",
   "metadata": {},
   "outputs": [],
   "source": [
    "#az onehot encoder bar asas dars estefadeh shode vali mesal lable encoder ham neveshtam chon rahat tar va behtare\n",
    "onehot_encoder = OneHotEncoder()\n",
    "encoded_data = onehot_encoder.fit_transform(dataset[categorical_features]).toarray()\n",
    "encoded_data_df = pd.DataFrame(encoded_data, columns=onehot_encoder.get_feature_names_out(categorical_features))\n",
    "dataset = pd.concat([dataset.drop(categorical_features, axis=1), encoded_data_df], axis=1)\n"
   ]
  },
  {
   "cell_type": "markdown",
   "id": "c88ea18f",
   "metadata": {},
   "source": [
    "یا از انکورد بالایی استفاده شود یا پایینی \n",
    "one hot \n",
    "یا\n",
    "label\n",
    "هر دو رو نوشتم چون یکی بر اساس درس و اون یکی راحت تر است\n"
   ]
  },
  {
   "cell_type": "code",
   "execution_count": 40,
   "id": "f92e8c91",
   "metadata": {
    "execution": {
     "iopub.execute_input": "2023-12-13T04:27:15.966951Z",
     "iopub.status.busy": "2023-12-13T04:27:15.966551Z",
     "iopub.status.idle": "2023-12-13T04:27:16.129695Z",
     "shell.execute_reply": "2023-12-13T04:27:16.128629Z"
    },
    "id": "ySGqYF9w9qLm",
    "papermill": {
     "duration": 0.175312,
     "end_time": "2023-12-13T04:27:16.132373",
     "exception": false,
     "start_time": "2023-12-13T04:27:15.957061",
     "status": "completed"
    },
    "tags": []
   },
   "outputs": [
    {
     "data": {
      "text/plain": [
       "' \\nlabel_encoder = LabelEncoder()\\nfor col in categorical_features:\\n  dataset[col] = label_encoder.fit_transform(dataset[col]) '"
      ]
     },
     "execution_count": 40,
     "metadata": {},
     "output_type": "execute_result"
    }
   ],
   "source": [
    "#label encoder dars nadadid hanooz vali etelaat besorat sade tar namayesh dadeh mishavand\n",
    "\"\"\" \n",
    "label_encoder = LabelEncoder()\n",
    "for col in categorical_features:\n",
    "  dataset[col] = label_encoder.fit_transform(dataset[col]) \"\"\""
   ]
  },
  {
   "cell_type": "code",
   "execution_count": 41,
   "id": "e647b34d",
   "metadata": {
    "execution": {
     "iopub.execute_input": "2023-12-13T04:27:16.150057Z",
     "iopub.status.busy": "2023-12-13T04:27:16.149676Z",
     "iopub.status.idle": "2023-12-13T04:27:16.167022Z",
     "shell.execute_reply": "2023-12-13T04:27:16.165978Z"
    },
    "id": "KRgUkjY1-I8t",
    "outputId": "65d71f82-e9c7-43cf-b473-40008d886115",
    "papermill": {
     "duration": 0.029076,
     "end_time": "2023-12-13T04:27:16.169707",
     "exception": false,
     "start_time": "2023-12-13T04:27:16.140631",
     "status": "completed"
    },
    "tags": []
   },
   "outputs": [
    {
     "data": {
      "text/html": [
       "<div>\n",
       "<style scoped>\n",
       "    .dataframe tbody tr th:only-of-type {\n",
       "        vertical-align: middle;\n",
       "    }\n",
       "\n",
       "    .dataframe tbody tr th {\n",
       "        vertical-align: top;\n",
       "    }\n",
       "\n",
       "    .dataframe thead th {\n",
       "        text-align: right;\n",
       "    }\n",
       "</style>\n",
       "<table border=\"1\" class=\"dataframe\">\n",
       "  <thead>\n",
       "    <tr style=\"text-align: right;\">\n",
       "      <th></th>\n",
       "      <th>ID</th>\n",
       "      <th>Age</th>\n",
       "      <th>Height</th>\n",
       "      <th>Weight</th>\n",
       "      <th>BMI</th>\n",
       "      <th>Temperature</th>\n",
       "      <th>Heart Rate</th>\n",
       "      <th>Blood Pressure</th>\n",
       "      <th>Cholesterol</th>\n",
       "      <th>Gender_Female</th>\n",
       "      <th>Gender_Male</th>\n",
       "      <th>Blood Type_A</th>\n",
       "      <th>Blood Type_AB</th>\n",
       "      <th>Blood Type_B</th>\n",
       "      <th>Blood Type_O</th>\n",
       "      <th>Diabetes_No</th>\n",
       "      <th>Diabetes_Yes</th>\n",
       "      <th>Smoking_No</th>\n",
       "      <th>Smoking_Yes</th>\n",
       "    </tr>\n",
       "  </thead>\n",
       "  <tbody>\n",
       "    <tr>\n",
       "      <th>0</th>\n",
       "      <td>1.000000</td>\n",
       "      <td>18.000000</td>\n",
       "      <td>161.777924</td>\n",
       "      <td>72.354947</td>\n",
       "      <td>27.645835</td>\n",
       "      <td>98.600948</td>\n",
       "      <td>95.0</td>\n",
       "      <td>109.000000</td>\n",
       "      <td>203.0</td>\n",
       "      <td>1.0</td>\n",
       "      <td>0.0</td>\n",
       "      <td>0.0</td>\n",
       "      <td>0.0</td>\n",
       "      <td>0.0</td>\n",
       "      <td>1.0</td>\n",
       "      <td>1.0</td>\n",
       "      <td>0.0</td>\n",
       "      <td>1.0</td>\n",
       "      <td>0.0</td>\n",
       "    </tr>\n",
       "    <tr>\n",
       "      <th>1</th>\n",
       "      <td>2.000000</td>\n",
       "      <td>26.021561</td>\n",
       "      <td>152.069157</td>\n",
       "      <td>47.630941</td>\n",
       "      <td>23.338869</td>\n",
       "      <td>98.714977</td>\n",
       "      <td>93.0</td>\n",
       "      <td>104.000000</td>\n",
       "      <td>163.0</td>\n",
       "      <td>0.0</td>\n",
       "      <td>1.0</td>\n",
       "      <td>0.0</td>\n",
       "      <td>0.0</td>\n",
       "      <td>1.0</td>\n",
       "      <td>0.0</td>\n",
       "      <td>1.0</td>\n",
       "      <td>0.0</td>\n",
       "      <td>1.0</td>\n",
       "      <td>0.0</td>\n",
       "    </tr>\n",
       "    <tr>\n",
       "      <th>2</th>\n",
       "      <td>3.000000</td>\n",
       "      <td>32.000000</td>\n",
       "      <td>182.537664</td>\n",
       "      <td>55.741083</td>\n",
       "      <td>16.729017</td>\n",
       "      <td>98.260293</td>\n",
       "      <td>76.0</td>\n",
       "      <td>130.000000</td>\n",
       "      <td>216.0</td>\n",
       "      <td>1.0</td>\n",
       "      <td>0.0</td>\n",
       "      <td>1.0</td>\n",
       "      <td>0.0</td>\n",
       "      <td>0.0</td>\n",
       "      <td>0.0</td>\n",
       "      <td>0.0</td>\n",
       "      <td>1.0</td>\n",
       "      <td>1.0</td>\n",
       "      <td>0.0</td>\n",
       "    </tr>\n",
       "    <tr>\n",
       "      <th>3</th>\n",
       "      <td>49974.042078</td>\n",
       "      <td>30.000000</td>\n",
       "      <td>182.112867</td>\n",
       "      <td>63.332207</td>\n",
       "      <td>19.096042</td>\n",
       "      <td>98.839605</td>\n",
       "      <td>99.0</td>\n",
       "      <td>112.000000</td>\n",
       "      <td>141.0</td>\n",
       "      <td>0.0</td>\n",
       "      <td>1.0</td>\n",
       "      <td>0.0</td>\n",
       "      <td>0.0</td>\n",
       "      <td>1.0</td>\n",
       "      <td>0.0</td>\n",
       "      <td>1.0</td>\n",
       "      <td>0.0</td>\n",
       "      <td>0.0</td>\n",
       "      <td>1.0</td>\n",
       "    </tr>\n",
       "    <tr>\n",
       "      <th>4</th>\n",
       "      <td>5.000000</td>\n",
       "      <td>23.000000</td>\n",
       "      <td>174.947103</td>\n",
       "      <td>46.234173</td>\n",
       "      <td>23.338869</td>\n",
       "      <td>98.480008</td>\n",
       "      <td>95.0</td>\n",
       "      <td>114.558033</td>\n",
       "      <td>231.0</td>\n",
       "      <td>1.0</td>\n",
       "      <td>0.0</td>\n",
       "      <td>0.0</td>\n",
       "      <td>0.0</td>\n",
       "      <td>0.0</td>\n",
       "      <td>1.0</td>\n",
       "      <td>1.0</td>\n",
       "      <td>0.0</td>\n",
       "      <td>1.0</td>\n",
       "      <td>0.0</td>\n",
       "    </tr>\n",
       "  </tbody>\n",
       "</table>\n",
       "</div>"
      ],
      "text/plain": [
       "             ID        Age      Height     Weight        BMI  Temperature  \\\n",
       "0      1.000000  18.000000  161.777924  72.354947  27.645835    98.600948   \n",
       "1      2.000000  26.021561  152.069157  47.630941  23.338869    98.714977   \n",
       "2      3.000000  32.000000  182.537664  55.741083  16.729017    98.260293   \n",
       "3  49974.042078  30.000000  182.112867  63.332207  19.096042    98.839605   \n",
       "4      5.000000  23.000000  174.947103  46.234173  23.338869    98.480008   \n",
       "\n",
       "   Heart Rate  Blood Pressure  Cholesterol  Gender_Female  Gender_Male  \\\n",
       "0        95.0      109.000000        203.0            1.0          0.0   \n",
       "1        93.0      104.000000        163.0            0.0          1.0   \n",
       "2        76.0      130.000000        216.0            1.0          0.0   \n",
       "3        99.0      112.000000        141.0            0.0          1.0   \n",
       "4        95.0      114.558033        231.0            1.0          0.0   \n",
       "\n",
       "   Blood Type_A  Blood Type_AB  Blood Type_B  Blood Type_O  Diabetes_No  \\\n",
       "0           0.0            0.0           0.0           1.0          1.0   \n",
       "1           0.0            0.0           1.0           0.0          1.0   \n",
       "2           1.0            0.0           0.0           0.0          0.0   \n",
       "3           0.0            0.0           1.0           0.0          1.0   \n",
       "4           0.0            0.0           0.0           1.0          1.0   \n",
       "\n",
       "   Diabetes_Yes  Smoking_No  Smoking_Yes  \n",
       "0           0.0         1.0          0.0  \n",
       "1           0.0         1.0          0.0  \n",
       "2           1.0         1.0          0.0  \n",
       "3           0.0         0.0          1.0  \n",
       "4           0.0         1.0          0.0  "
      ]
     },
     "execution_count": 41,
     "metadata": {},
     "output_type": "execute_result"
    }
   ],
   "source": [
    "dataset.head()"
   ]
  },
  {
   "cell_type": "code",
   "execution_count": 42,
   "id": "91b2bf1b",
   "metadata": {
    "execution": {
     "iopub.execute_input": "2023-12-13T04:27:16.354620Z",
     "iopub.status.busy": "2023-12-13T04:27:16.353687Z",
     "iopub.status.idle": "2023-12-13T04:27:16.371863Z",
     "shell.execute_reply": "2023-12-13T04:27:16.370637Z"
    },
    "id": "xMmpDTRZBnwA",
    "papermill": {
     "duration": 0.033715,
     "end_time": "2023-12-13T04:27:16.374632",
     "exception": false,
     "start_time": "2023-12-13T04:27:16.340917",
     "status": "completed"
    },
    "tags": []
   },
   "outputs": [],
   "source": [
    "X = dataset.drop(['Cholesterol','ID'], axis=1)\n",
    "y = dataset['Cholesterol']"
   ]
  },
  {
   "cell_type": "code",
   "execution_count": 43,
   "id": "b753db1e",
   "metadata": {
    "execution": {
     "iopub.execute_input": "2023-12-13T04:27:16.399534Z",
     "iopub.status.busy": "2023-12-13T04:27:16.399024Z",
     "iopub.status.idle": "2023-12-13T04:27:16.415665Z",
     "shell.execute_reply": "2023-12-13T04:27:16.414673Z"
    },
    "id": "QavtF_mYC8T6",
    "outputId": "c418dbb1-664d-4212-f490-229267bf4d8d",
    "papermill": {
     "duration": 0.032522,
     "end_time": "2023-12-13T04:27:16.417762",
     "exception": false,
     "start_time": "2023-12-13T04:27:16.385240",
     "status": "completed"
    },
    "tags": []
   },
   "outputs": [
    {
     "data": {
      "text/html": [
       "<div>\n",
       "<style scoped>\n",
       "    .dataframe tbody tr th:only-of-type {\n",
       "        vertical-align: middle;\n",
       "    }\n",
       "\n",
       "    .dataframe tbody tr th {\n",
       "        vertical-align: top;\n",
       "    }\n",
       "\n",
       "    .dataframe thead th {\n",
       "        text-align: right;\n",
       "    }\n",
       "</style>\n",
       "<table border=\"1\" class=\"dataframe\">\n",
       "  <thead>\n",
       "    <tr style=\"text-align: right;\">\n",
       "      <th></th>\n",
       "      <th>Age</th>\n",
       "      <th>Height</th>\n",
       "      <th>Weight</th>\n",
       "      <th>BMI</th>\n",
       "      <th>Temperature</th>\n",
       "      <th>Heart Rate</th>\n",
       "      <th>Blood Pressure</th>\n",
       "      <th>Gender_Female</th>\n",
       "      <th>Gender_Male</th>\n",
       "      <th>Blood Type_A</th>\n",
       "      <th>Blood Type_AB</th>\n",
       "      <th>Blood Type_B</th>\n",
       "      <th>Blood Type_O</th>\n",
       "      <th>Diabetes_No</th>\n",
       "      <th>Diabetes_Yes</th>\n",
       "      <th>Smoking_No</th>\n",
       "      <th>Smoking_Yes</th>\n",
       "    </tr>\n",
       "  </thead>\n",
       "  <tbody>\n",
       "    <tr>\n",
       "      <th>0</th>\n",
       "      <td>18.000000</td>\n",
       "      <td>161.777924</td>\n",
       "      <td>72.354947</td>\n",
       "      <td>27.645835</td>\n",
       "      <td>98.600948</td>\n",
       "      <td>95.0</td>\n",
       "      <td>109.000000</td>\n",
       "      <td>1.0</td>\n",
       "      <td>0.0</td>\n",
       "      <td>0.0</td>\n",
       "      <td>0.0</td>\n",
       "      <td>0.0</td>\n",
       "      <td>1.0</td>\n",
       "      <td>1.0</td>\n",
       "      <td>0.0</td>\n",
       "      <td>1.0</td>\n",
       "      <td>0.0</td>\n",
       "    </tr>\n",
       "    <tr>\n",
       "      <th>1</th>\n",
       "      <td>26.021561</td>\n",
       "      <td>152.069157</td>\n",
       "      <td>47.630941</td>\n",
       "      <td>23.338869</td>\n",
       "      <td>98.714977</td>\n",
       "      <td>93.0</td>\n",
       "      <td>104.000000</td>\n",
       "      <td>0.0</td>\n",
       "      <td>1.0</td>\n",
       "      <td>0.0</td>\n",
       "      <td>0.0</td>\n",
       "      <td>1.0</td>\n",
       "      <td>0.0</td>\n",
       "      <td>1.0</td>\n",
       "      <td>0.0</td>\n",
       "      <td>1.0</td>\n",
       "      <td>0.0</td>\n",
       "    </tr>\n",
       "    <tr>\n",
       "      <th>2</th>\n",
       "      <td>32.000000</td>\n",
       "      <td>182.537664</td>\n",
       "      <td>55.741083</td>\n",
       "      <td>16.729017</td>\n",
       "      <td>98.260293</td>\n",
       "      <td>76.0</td>\n",
       "      <td>130.000000</td>\n",
       "      <td>1.0</td>\n",
       "      <td>0.0</td>\n",
       "      <td>1.0</td>\n",
       "      <td>0.0</td>\n",
       "      <td>0.0</td>\n",
       "      <td>0.0</td>\n",
       "      <td>0.0</td>\n",
       "      <td>1.0</td>\n",
       "      <td>1.0</td>\n",
       "      <td>0.0</td>\n",
       "    </tr>\n",
       "    <tr>\n",
       "      <th>3</th>\n",
       "      <td>30.000000</td>\n",
       "      <td>182.112867</td>\n",
       "      <td>63.332207</td>\n",
       "      <td>19.096042</td>\n",
       "      <td>98.839605</td>\n",
       "      <td>99.0</td>\n",
       "      <td>112.000000</td>\n",
       "      <td>0.0</td>\n",
       "      <td>1.0</td>\n",
       "      <td>0.0</td>\n",
       "      <td>0.0</td>\n",
       "      <td>1.0</td>\n",
       "      <td>0.0</td>\n",
       "      <td>1.0</td>\n",
       "      <td>0.0</td>\n",
       "      <td>0.0</td>\n",
       "      <td>1.0</td>\n",
       "    </tr>\n",
       "    <tr>\n",
       "      <th>4</th>\n",
       "      <td>23.000000</td>\n",
       "      <td>174.947103</td>\n",
       "      <td>46.234173</td>\n",
       "      <td>23.338869</td>\n",
       "      <td>98.480008</td>\n",
       "      <td>95.0</td>\n",
       "      <td>114.558033</td>\n",
       "      <td>1.0</td>\n",
       "      <td>0.0</td>\n",
       "      <td>0.0</td>\n",
       "      <td>0.0</td>\n",
       "      <td>0.0</td>\n",
       "      <td>1.0</td>\n",
       "      <td>1.0</td>\n",
       "      <td>0.0</td>\n",
       "      <td>1.0</td>\n",
       "      <td>0.0</td>\n",
       "    </tr>\n",
       "  </tbody>\n",
       "</table>\n",
       "</div>"
      ],
      "text/plain": [
       "         Age      Height     Weight        BMI  Temperature  Heart Rate  \\\n",
       "0  18.000000  161.777924  72.354947  27.645835    98.600948        95.0   \n",
       "1  26.021561  152.069157  47.630941  23.338869    98.714977        93.0   \n",
       "2  32.000000  182.537664  55.741083  16.729017    98.260293        76.0   \n",
       "3  30.000000  182.112867  63.332207  19.096042    98.839605        99.0   \n",
       "4  23.000000  174.947103  46.234173  23.338869    98.480008        95.0   \n",
       "\n",
       "   Blood Pressure  Gender_Female  Gender_Male  Blood Type_A  Blood Type_AB  \\\n",
       "0      109.000000            1.0          0.0           0.0            0.0   \n",
       "1      104.000000            0.0          1.0           0.0            0.0   \n",
       "2      130.000000            1.0          0.0           1.0            0.0   \n",
       "3      112.000000            0.0          1.0           0.0            0.0   \n",
       "4      114.558033            1.0          0.0           0.0            0.0   \n",
       "\n",
       "   Blood Type_B  Blood Type_O  Diabetes_No  Diabetes_Yes  Smoking_No  \\\n",
       "0           0.0           1.0          1.0           0.0         1.0   \n",
       "1           1.0           0.0          1.0           0.0         1.0   \n",
       "2           0.0           0.0          0.0           1.0         1.0   \n",
       "3           1.0           0.0          1.0           0.0         0.0   \n",
       "4           0.0           1.0          1.0           0.0         1.0   \n",
       "\n",
       "   Smoking_Yes  \n",
       "0          0.0  \n",
       "1          0.0  \n",
       "2          0.0  \n",
       "3          1.0  \n",
       "4          0.0  "
      ]
     },
     "execution_count": 43,
     "metadata": {},
     "output_type": "execute_result"
    }
   ],
   "source": [
    "X.head()"
   ]
  },
  {
   "cell_type": "code",
   "execution_count": 44,
   "id": "8e1662ff",
   "metadata": {
    "execution": {
     "iopub.execute_input": "2023-12-13T04:27:16.438328Z",
     "iopub.status.busy": "2023-12-13T04:27:16.437361Z",
     "iopub.status.idle": "2023-12-13T04:27:16.445268Z",
     "shell.execute_reply": "2023-12-13T04:27:16.444197Z"
    },
    "id": "oOFuekDgC9Fi",
    "outputId": "24bd5c4a-4f9f-46e9-aee5-d2d09f325cd1",
    "papermill": {
     "duration": 0.020252,
     "end_time": "2023-12-13T04:27:16.447209",
     "exception": false,
     "start_time": "2023-12-13T04:27:16.426957",
     "status": "completed"
    },
    "tags": []
   },
   "outputs": [
    {
     "data": {
      "text/plain": [
       "0    203.0\n",
       "1    163.0\n",
       "2    216.0\n",
       "3    141.0\n",
       "4    231.0\n",
       "Name: Cholesterol, dtype: float64"
      ]
     },
     "execution_count": 44,
     "metadata": {},
     "output_type": "execute_result"
    }
   ],
   "source": [
    "y.head()"
   ]
  },
  {
   "cell_type": "code",
   "execution_count": 45,
   "id": "50b81133",
   "metadata": {
    "execution": {
     "iopub.execute_input": "2023-12-13T04:27:16.467841Z",
     "iopub.status.busy": "2023-12-13T04:27:16.466755Z",
     "iopub.status.idle": "2023-12-13T04:27:16.533712Z",
     "shell.execute_reply": "2023-12-13T04:27:16.532558Z"
    },
    "id": "tj8GL0udC-ft",
    "papermill": {
     "duration": 0.080121,
     "end_time": "2023-12-13T04:27:16.536528",
     "exception": false,
     "start_time": "2023-12-13T04:27:16.456407",
     "status": "completed"
    },
    "tags": []
   },
   "outputs": [],
   "source": [
    "X_train, X_test, y_train, y_test = train_test_split(X, y, test_size=.2, random_state=42)"
   ]
  },
  {
   "cell_type": "code",
   "execution_count": 46,
   "id": "9113f6c5",
   "metadata": {},
   "outputs": [],
   "source": [
    "from sklearn.preprocessing import MinMaxScaler\n",
    "min_max_scaler = MinMaxScaler(feature_range=(-1, 1))\n",
    "X_train=min_max_scaler.fit_transform(X_train)\n",
    "X_test=min_max_scaler.transform(X_test)\n",
    "y_test= min_max_scaler.fit_transform(np.array(y_test).reshape(-1, 1))\n",
    "y_train= min_max_scaler.fit_transform(np.array(y_train).reshape(-1, 1))"
   ]
  },
  {
   "cell_type": "code",
   "execution_count": 2,
   "id": "3870d30c",
   "metadata": {},
   "outputs": [
    {
     "data": {
      "text/html": [
       "<pre style=\"white-space:pre;overflow-x:auto;line-height:normal;font-family:Menlo,'DejaVu Sans Mono',consolas,'Courier New',monospace\"><span style=\"font-weight: bold\">Model: \"functional_3\"</span>\n",
       "</pre>\n"
      ],
      "text/plain": [
       "\u001b[1mModel: \"functional_3\"\u001b[0m\n"
      ]
     },
     "metadata": {},
     "output_type": "display_data"
    },
    {
     "data": {
      "text/html": [
       "<pre style=\"white-space:pre;overflow-x:auto;line-height:normal;font-family:Menlo,'DejaVu Sans Mono',consolas,'Courier New',monospace\">┏━━━━━━━━━━━━━━━━━━━━━┳━━━━━━━━━━━━━━━━━━━┳━━━━━━━━━━━━┳━━━━━━━━━━━━━━━━━━━┓\n",
       "┃<span style=\"font-weight: bold\"> Layer (type)        </span>┃<span style=\"font-weight: bold\"> Output Shape      </span>┃<span style=\"font-weight: bold\">    Param # </span>┃<span style=\"font-weight: bold\"> Connected to      </span>┃\n",
       "┡━━━━━━━━━━━━━━━━━━━━━╇━━━━━━━━━━━━━━━━━━━╇━━━━━━━━━━━━╇━━━━━━━━━━━━━━━━━━━┩\n",
       "│ input_layer_3       │ (<span style=\"color: #00d7ff; text-decoration-color: #00d7ff\">None</span>, <span style=\"color: #00af00; text-decoration-color: #00af00\">6</span>)         │          <span style=\"color: #00af00; text-decoration-color: #00af00\">0</span> │ -                 │\n",
       "│ (<span style=\"color: #0087ff; text-decoration-color: #0087ff\">InputLayer</span>)        │                   │            │                   │\n",
       "├─────────────────────┼───────────────────┼────────────┼───────────────────┤\n",
       "│ normalization_3     │ (<span style=\"color: #00d7ff; text-decoration-color: #00d7ff\">None</span>, <span style=\"color: #00af00; text-decoration-color: #00af00\">6</span>)         │         <span style=\"color: #00af00; text-decoration-color: #00af00\">13</span> │ input_layer_3[<span style=\"color: #00af00; text-decoration-color: #00af00\">0</span>]… │\n",
       "│ (<span style=\"color: #0087ff; text-decoration-color: #0087ff\">Normalization</span>)     │                   │            │                   │\n",
       "├─────────────────────┼───────────────────┼────────────┼───────────────────┤\n",
       "│ input_layer_2       │ (<span style=\"color: #00d7ff; text-decoration-color: #00d7ff\">None</span>, <span style=\"color: #00af00; text-decoration-color: #00af00\">5</span>)         │          <span style=\"color: #00af00; text-decoration-color: #00af00\">0</span> │ -                 │\n",
       "│ (<span style=\"color: #0087ff; text-decoration-color: #0087ff\">InputLayer</span>)        │                   │            │                   │\n",
       "├─────────────────────┼───────────────────┼────────────┼───────────────────┤\n",
       "│ dense_3 (<span style=\"color: #0087ff; text-decoration-color: #0087ff\">Dense</span>)     │ (<span style=\"color: #00d7ff; text-decoration-color: #00d7ff\">None</span>, <span style=\"color: #00af00; text-decoration-color: #00af00\">30</span>)        │        <span style=\"color: #00af00; text-decoration-color: #00af00\">210</span> │ normalization_3[<span style=\"color: #00af00; text-decoration-color: #00af00\">…</span> │\n",
       "├─────────────────────┼───────────────────┼────────────┼───────────────────┤\n",
       "│ normalization_2     │ (<span style=\"color: #00d7ff; text-decoration-color: #00d7ff\">None</span>, <span style=\"color: #00af00; text-decoration-color: #00af00\">5</span>)         │         <span style=\"color: #00af00; text-decoration-color: #00af00\">11</span> │ input_layer_2[<span style=\"color: #00af00; text-decoration-color: #00af00\">0</span>]… │\n",
       "│ (<span style=\"color: #0087ff; text-decoration-color: #0087ff\">Normalization</span>)     │                   │            │                   │\n",
       "├─────────────────────┼───────────────────┼────────────┼───────────────────┤\n",
       "│ dense_4 (<span style=\"color: #0087ff; text-decoration-color: #0087ff\">Dense</span>)     │ (<span style=\"color: #00d7ff; text-decoration-color: #00d7ff\">None</span>, <span style=\"color: #00af00; text-decoration-color: #00af00\">30</span>)        │        <span style=\"color: #00af00; text-decoration-color: #00af00\">930</span> │ dense_3[<span style=\"color: #00af00; text-decoration-color: #00af00\">0</span>][<span style=\"color: #00af00; text-decoration-color: #00af00\">0</span>]     │\n",
       "├─────────────────────┼───────────────────┼────────────┼───────────────────┤\n",
       "│ concatenate_1       │ (<span style=\"color: #00d7ff; text-decoration-color: #00d7ff\">None</span>, <span style=\"color: #00af00; text-decoration-color: #00af00\">35</span>)        │          <span style=\"color: #00af00; text-decoration-color: #00af00\">0</span> │ normalization_2[<span style=\"color: #00af00; text-decoration-color: #00af00\">…</span> │\n",
       "│ (<span style=\"color: #0087ff; text-decoration-color: #0087ff\">Concatenate</span>)       │                   │            │ dense_4[<span style=\"color: #00af00; text-decoration-color: #00af00\">0</span>][<span style=\"color: #00af00; text-decoration-color: #00af00\">0</span>]     │\n",
       "├─────────────────────┼───────────────────┼────────────┼───────────────────┤\n",
       "│ dense_5 (<span style=\"color: #0087ff; text-decoration-color: #0087ff\">Dense</span>)     │ (<span style=\"color: #00d7ff; text-decoration-color: #00d7ff\">None</span>, <span style=\"color: #00af00; text-decoration-color: #00af00\">1</span>)         │         <span style=\"color: #00af00; text-decoration-color: #00af00\">36</span> │ concatenate_1[<span style=\"color: #00af00; text-decoration-color: #00af00\">0</span>]… │\n",
       "└─────────────────────┴───────────────────┴────────────┴───────────────────┘\n",
       "</pre>\n"
      ],
      "text/plain": [
       "┏━━━━━━━━━━━━━━━━━━━━━┳━━━━━━━━━━━━━━━━━━━┳━━━━━━━━━━━━┳━━━━━━━━━━━━━━━━━━━┓\n",
       "┃\u001b[1m \u001b[0m\u001b[1mLayer (type)       \u001b[0m\u001b[1m \u001b[0m┃\u001b[1m \u001b[0m\u001b[1mOutput Shape     \u001b[0m\u001b[1m \u001b[0m┃\u001b[1m \u001b[0m\u001b[1m   Param #\u001b[0m\u001b[1m \u001b[0m┃\u001b[1m \u001b[0m\u001b[1mConnected to     \u001b[0m\u001b[1m \u001b[0m┃\n",
       "┡━━━━━━━━━━━━━━━━━━━━━╇━━━━━━━━━━━━━━━━━━━╇━━━━━━━━━━━━╇━━━━━━━━━━━━━━━━━━━┩\n",
       "│ input_layer_3       │ (\u001b[38;5;45mNone\u001b[0m, \u001b[38;5;34m6\u001b[0m)         │          \u001b[38;5;34m0\u001b[0m │ -                 │\n",
       "│ (\u001b[38;5;33mInputLayer\u001b[0m)        │                   │            │                   │\n",
       "├─────────────────────┼───────────────────┼────────────┼───────────────────┤\n",
       "│ normalization_3     │ (\u001b[38;5;45mNone\u001b[0m, \u001b[38;5;34m6\u001b[0m)         │         \u001b[38;5;34m13\u001b[0m │ input_layer_3[\u001b[38;5;34m0\u001b[0m]… │\n",
       "│ (\u001b[38;5;33mNormalization\u001b[0m)     │                   │            │                   │\n",
       "├─────────────────────┼───────────────────┼────────────┼───────────────────┤\n",
       "│ input_layer_2       │ (\u001b[38;5;45mNone\u001b[0m, \u001b[38;5;34m5\u001b[0m)         │          \u001b[38;5;34m0\u001b[0m │ -                 │\n",
       "│ (\u001b[38;5;33mInputLayer\u001b[0m)        │                   │            │                   │\n",
       "├─────────────────────┼───────────────────┼────────────┼───────────────────┤\n",
       "│ dense_3 (\u001b[38;5;33mDense\u001b[0m)     │ (\u001b[38;5;45mNone\u001b[0m, \u001b[38;5;34m30\u001b[0m)        │        \u001b[38;5;34m210\u001b[0m │ normalization_3[\u001b[38;5;34m…\u001b[0m │\n",
       "├─────────────────────┼───────────────────┼────────────┼───────────────────┤\n",
       "│ normalization_2     │ (\u001b[38;5;45mNone\u001b[0m, \u001b[38;5;34m5\u001b[0m)         │         \u001b[38;5;34m11\u001b[0m │ input_layer_2[\u001b[38;5;34m0\u001b[0m]… │\n",
       "│ (\u001b[38;5;33mNormalization\u001b[0m)     │                   │            │                   │\n",
       "├─────────────────────┼───────────────────┼────────────┼───────────────────┤\n",
       "│ dense_4 (\u001b[38;5;33mDense\u001b[0m)     │ (\u001b[38;5;45mNone\u001b[0m, \u001b[38;5;34m30\u001b[0m)        │        \u001b[38;5;34m930\u001b[0m │ dense_3[\u001b[38;5;34m0\u001b[0m][\u001b[38;5;34m0\u001b[0m]     │\n",
       "├─────────────────────┼───────────────────┼────────────┼───────────────────┤\n",
       "│ concatenate_1       │ (\u001b[38;5;45mNone\u001b[0m, \u001b[38;5;34m35\u001b[0m)        │          \u001b[38;5;34m0\u001b[0m │ normalization_2[\u001b[38;5;34m…\u001b[0m │\n",
       "│ (\u001b[38;5;33mConcatenate\u001b[0m)       │                   │            │ dense_4[\u001b[38;5;34m0\u001b[0m][\u001b[38;5;34m0\u001b[0m]     │\n",
       "├─────────────────────┼───────────────────┼────────────┼───────────────────┤\n",
       "│ dense_5 (\u001b[38;5;33mDense\u001b[0m)     │ (\u001b[38;5;45mNone\u001b[0m, \u001b[38;5;34m1\u001b[0m)         │         \u001b[38;5;34m36\u001b[0m │ concatenate_1[\u001b[38;5;34m0\u001b[0m]… │\n",
       "└─────────────────────┴───────────────────┴────────────┴───────────────────┘\n"
      ]
     },
     "metadata": {},
     "output_type": "display_data"
    },
    {
     "data": {
      "text/html": [
       "<pre style=\"white-space:pre;overflow-x:auto;line-height:normal;font-family:Menlo,'DejaVu Sans Mono',consolas,'Courier New',monospace\"><span style=\"font-weight: bold\"> Total params: </span><span style=\"color: #00af00; text-decoration-color: #00af00\">1,200</span> (4.70 KB)\n",
       "</pre>\n"
      ],
      "text/plain": [
       "\u001b[1m Total params: \u001b[0m\u001b[38;5;34m1,200\u001b[0m (4.70 KB)\n"
      ]
     },
     "metadata": {},
     "output_type": "display_data"
    },
    {
     "data": {
      "text/html": [
       "<pre style=\"white-space:pre;overflow-x:auto;line-height:normal;font-family:Menlo,'DejaVu Sans Mono',consolas,'Courier New',monospace\"><span style=\"font-weight: bold\"> Trainable params: </span><span style=\"color: #00af00; text-decoration-color: #00af00\">1,176</span> (4.59 KB)\n",
       "</pre>\n"
      ],
      "text/plain": [
       "\u001b[1m Trainable params: \u001b[0m\u001b[38;5;34m1,176\u001b[0m (4.59 KB)\n"
      ]
     },
     "metadata": {},
     "output_type": "display_data"
    },
    {
     "data": {
      "text/html": [
       "<pre style=\"white-space:pre;overflow-x:auto;line-height:normal;font-family:Menlo,'DejaVu Sans Mono',consolas,'Courier New',monospace\"><span style=\"font-weight: bold\"> Non-trainable params: </span><span style=\"color: #00af00; text-decoration-color: #00af00\">24</span> (104.00 B)\n",
       "</pre>\n"
      ],
      "text/plain": [
       "\u001b[1m Non-trainable params: \u001b[0m\u001b[38;5;34m24\u001b[0m (104.00 B)\n"
      ]
     },
     "metadata": {},
     "output_type": "display_data"
    },
    {
     "name": "stdout",
     "output_type": "stream",
     "text": [
      "Test Loss: 5.865669663762674e-05\n"
     ]
    }
   ],
   "source": [
    "import tensorflow as tf\n",
    "from tensorflow import keras\n",
    "from tensorflow.keras import layers , Model\n",
    "\n",
    "input_wide = layers.Input(shape=[5])\n",
    "input_deep = layers.Input(shape=[6])  \n",
    "\n",
    "norm_layer_wide = layers.Normalization()\n",
    "norm_layer_deep = layers.Normalization()\n",
    "\n",
    "norm_wide = norm_layer_wide(input_wide)\n",
    "norm_deep = norm_layer_deep(input_deep)\n",
    "\n",
    "hidden1 = layers.Dense(30, activation=\"relu\")(norm_deep)\n",
    "hidden2 = layers.Dense(30, activation=\"relu\")(hidden1)\n",
    "\n",
    "concat = layers.concatenate([norm_wide, hidden2])\n",
    "\n",
    "output = layers.Dense(1)(concat)\n",
    "\n",
    "model = Model(inputs=[input_wide, input_deep], outputs=[output])\n",
    "\n",
    "model.compile(optimizer='adam', loss='mse')\n",
    "\n",
    "model.summary() \n",
    "\n",
    "import numpy as np\n",
    "\n",
    "n_samples = 1000\n",
    "features = np.random.rand(n_samples, 8)\n",
    "target = features[:, 2] * 2 + features[:, 5] - features[:, 3] \n",
    "\n",
    "X_train_wide = features[:800, :5] \n",
    "X_train_deep = features[:800, 2:] \n",
    "y_train = target[:800]\n",
    "\n",
    "X_test_wide = features[800:, :5]\n",
    "X_test_deep = features[800:, 2:]\n",
    "y_test = target[800:]\n",
    "\n",
    "history = model.fit([X_train_wide, X_train_deep], y_train, epochs=100, batch_size=32, verbose=0)\n",
    "\n",
    "loss = model.evaluate([X_test_wide, X_test_deep], y_test, verbose=0)\n",
    "print(f\"Test Loss: {loss}\")\n",
    "\n"
   ]
  }
 ],
 "metadata": {
  "colab": {
   "provenance": []
  },
  "kaggle": {
   "accelerator": "none",
   "dataSources": [
    {
     "datasetId": 3471951,
     "sourceId": 6066466,
     "sourceType": "datasetVersion"
    }
   ],
   "isGpuEnabled": false,
   "isInternetEnabled": true,
   "language": "python",
   "sourceType": "notebook"
  },
  "kernelspec": {
   "display_name": "Python 3",
   "name": "python3"
  },
  "language_info": {
   "codemirror_mode": {
    "name": "ipython",
    "version": 3
   },
   "file_extension": ".py",
   "mimetype": "text/x-python",
   "name": "python",
   "nbconvert_exporter": "python",
   "pygments_lexer": "ipython3",
   "version": "3.12.1"
  },
  "papermill": {
   "default_parameters": {},
   "duration": 158.986015,
   "end_time": "2023-12-13T04:29:36.393357",
   "environment_variables": {},
   "exception": null,
   "input_path": "__notebook__.ipynb",
   "output_path": "__notebook__.ipynb",
   "parameters": {},
   "start_time": "2023-12-13T04:26:57.407342",
   "version": "2.4.0"
  }
 },
 "nbformat": 4,
 "nbformat_minor": 5
}
